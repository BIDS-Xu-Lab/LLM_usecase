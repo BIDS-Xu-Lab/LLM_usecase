{
 "cells": [
  {
   "cell_type": "code",
   "execution_count": null,
   "id": "687db494-bbaa-4479-87c1-51c074c25c50",
   "metadata": {
    "tags": []
   },
   "outputs": [],
   "source": [
    "import os\n",
    "import torch\n",
    "from transformers import AutoTokenizer, AutoModelForCausalLM, BitsAndBytesConfig\n",
    "\n",
    "quant_config = BitsAndBytesConfig(\n",
    "    load_in_4bit=True,\n",
    "    bnb_4bit_use_double_quant=True,\n",
    "    bnb_4bit_quant_type=\"nf4\",\n",
    "    bnb_4bit_compute_dtype=torch.bfloat16)\n",
    "\n",
    "\n",
    "# model_name = \"/home/jupyter/2581954llmaccess/me-llama/70bchat/\" \n",
    "model_name = \"/home/jupyter/2581954llmaccess/huggingface/models--meta-llama--Llama-3.1-70B-Instruct/snapshots/945c8663693130f8be2ee66210e062158b2a9693/\"\n",
    "\n",
    "import torch\n",
    "# load tokenizer and model\n",
    "tokenizer = AutoTokenizer.from_pretrained(model_name,)\n",
    "tokenizer.add_special_tokens({'pad_token': 'none'})\n",
    "tokenizer.add_special_tokens({'pad_token': '<pad>'})\n",
    "tokenizer.add_eos_token = True\n",
    "tokenizer.pad_token_id = 0\n",
    "tokenizer.padding_side = \"left\"\n",
    "\n",
    "model = AutoModelForCausalLM.from_pretrained(model_name, quantization_config=quant_config, device_map='auto')"
   ]
  },
  {
   "cell_type": "code",
   "execution_count": null,
   "id": "cc9d59b9-af6a-4add-8d91-bcf274ac4355",
   "metadata": {
    "tags": []
   },
   "outputs": [],
   "source": [
    "question = 'QUESTRION HERE'\n",
    "\n",
    "\n",
    "inputs = tokenizer(question, return_tensors=\"pt\")\n",
    "\n",
    "outputs = model.generate(\n",
    "    **inputs,\n",
    "    max_new_tokens=300,\n",
    ")\n",
    "\n",
    "generated_text = tokenizer.decode(outputs[0], skip_special_tokens=True)\n",
    "print(f\"Generated text: {generated_text}\")"
   ]
  },
  {
   "cell_type": "code",
   "execution_count": null,
   "id": "d1973f16-7181-4657-a0ca-866e7965601c",
   "metadata": {},
   "outputs": [],
   "source": []
  },
  {
   "cell_type": "code",
   "execution_count": null,
   "id": "cc272fe0-cb0f-4485-8ed3-8cf00a52e940",
   "metadata": {},
   "outputs": [],
   "source": [
    "# prompts for other tasks"
   ]
  },
  {
   "cell_type": "code",
   "execution_count": 10,
   "id": "30df31ff-3333-472e-a117-dc4b9b01244a",
   "metadata": {
    "execution": {
     "iopub.execute_input": "2025-04-19T00:04:54.915418Z",
     "iopub.status.busy": "2025-04-19T00:04:54.914644Z",
     "iopub.status.idle": "2025-04-19T00:04:54.931206Z",
     "shell.execute_reply": "2025-04-19T00:04:54.928728Z",
     "shell.execute_reply.started": "2025-04-19T00:04:54.915359Z"
    },
    "tags": []
   },
   "outputs": [],
   "source": [
    "#DEFINE YOUR OWN TASK\n",
    "# FOR NER TASK\n",
    "prompt_1 = '''### Your task is to generate an HTML version of an input text, using HTML <span> tags to mark up specific entities.\n",
    "\n",
    "### Entity Markup Guides:\n",
    "Use <span class=\"Language_Fluent\"> to denote a language spoken by the patient fluently.\n",
    "Use <span class=\"Language_Some\"> to denote a language spoken by the patient in moderate level.\n",
    "Use <span class=\"Language_No\"> To denote a language which cannot be spoken or can only be spoken a little by the patient.\n",
    "Use <span class=\"Language_Other\"> to denote a language that not related to patient.\n",
    "\n",
    "### Entity Definitions:\n",
    "Language_Fluent: The person speaks the language fluently, including native speakers and those who have achieved nearnative fluency. They can use the language effectively in  various contexts with complete fluency and cultural understanding. Instances where a patient’s fluency is not explicitly stated but can be directly inferred (e.g. mention of interpreter/translator, preference of language on prescription) are included in this definition.\n",
    "Language_Some: The person has a moderate level of proficiency in the language. They can understand and use the language for basic communication and simple conversations but are not fully fluent.\n",
    "Language_No: The person knows a few words or phrases in the language but cannot use it for basic communication. Their knowledge is very limited and not sufficient for meaningful  interaction. Or the person does not know or speak the language at all. Cannot use this Language to communicate at all.\n",
    "Language_Other: Languages mentioned in the text that are not related to the person’s language proficiency. These may be languages discussed in a different context or related to other individuals. Words that could refer to a language but are not used in that context (e.g. Greek yogurt, Irish Catholic, French catheter size) should not be annotated.\n",
    "\n",
    "### Additional Rules:\n",
    "1. Only annotate the name of the language itself.\n",
    "2. Do not annotate descriptive words about the language proficiency level (e.g. \"some\", \"simple\") or negations (e.g. \"not\", \"no\").\n",
    "3. Hyphenated languages (ex. Chinese-Mandarin) or language connected by \"/\" should be labelled separately for each token.\n",
    "\n",
    "### Input Text: {}<EOS>\n",
    "### Output Text:'''\n",
    "\n",
    "\n",
    "# FOR CLASSIFICATION TASK\n",
    "prompt_2 = \"\"\"***TASK***\n",
    "The task is to decide relevant COVID-19 topics of the article based on its abstract.\n",
    "\n",
    "***INPUT***\n",
    "The input is an abstract text.\n",
    "\n",
    "***DOCUMENTATION***\n",
    "There are 7 topics you will need to decide whether the article is related to. The followings are the topics and their definitions.\n",
    "Mechanism: underlying cause(s) of COVID-19 infections and transmission and possible drug mechanism of action. \n",
    "Transmission: characteristics and modes of COVID-19 transmissions. \n",
    "Diagnosis: COVID-19 assessment through symptoms, test results and radiological features for COVID-19. \n",
    "Treatment: treatment strategies, therapeutic procedures and vaccine development for COVID-19. \n",
    "Prevention: prevention, control, mitigation and management strategies for COVID-19. \n",
    "Case Report: descriptions of specific patient cases related to COVID-19. \n",
    "Epidemic Forecasting: estimation on the trend of COVID-19 spread and related modeling approach. \n",
    "Other: other situations that can not be included in above.\n",
    "\n",
    "***OUTPUT***\n",
    "The output should be in a json format, with relevant value for each topic: Treatment, Diagnosis, Prevention, Mechanism, Transmission, Epidemic Forecasting, Case Report.\n",
    "Put value 1 if the article is related to that topic, 0 if the article is not related to that topic. \n",
    "Please note one article can be related to multiple topics.\n",
    "Example output format:\n",
    "```json\n",
    "{{\n",
    "  \"Treatment\":,\n",
    "  \"Diagnosis\":,\n",
    "  \"Prevention\":,\n",
    "  \"Mechanism\":,\n",
    "  \"Transmission\":,\n",
    "  \"Epidemic Forecasting\":,\n",
    "  \"Case Report\":,\n",
    "  \"Other\":\n",
    "}}\n",
    "\n",
    "Input: {} <EOS>\n",
    "Output:\"\"\""
   ]
  },
  {
   "cell_type": "code",
   "execution_count": 11,
   "id": "b7580ea1-3afd-4b77-b15e-017625223ddc",
   "metadata": {
    "execution": {
     "iopub.execute_input": "2025-04-19T00:04:55.197166Z",
     "iopub.status.busy": "2025-04-19T00:04:55.196456Z",
     "iopub.status.idle": "2025-04-19T00:04:55.207204Z",
     "shell.execute_reply": "2025-04-19T00:04:55.204487Z",
     "shell.execute_reply.started": "2025-04-19T00:04:55.197107Z"
    },
    "tags": []
   },
   "outputs": [],
   "source": [
    "question = prompt_1.format('I speak english')"
   ]
  },
  {
   "cell_type": "code",
   "execution_count": null,
   "id": "3ce5e8cc-8116-401f-8361-895acc51516a",
   "metadata": {},
   "outputs": [],
   "source": []
  }
 ],
 "metadata": {
  "kernelspec": {
   "display_name": "Python 3 (ipykernel)",
   "language": "python",
   "name": "python3"
  },
  "language_info": {
   "codemirror_mode": {
    "name": "ipython",
    "version": 3
   },
   "file_extension": ".py",
   "mimetype": "text/x-python",
   "name": "python",
   "nbconvert_exporter": "python",
   "pygments_lexer": "ipython3",
   "version": "3.10.14"
  }
 },
 "nbformat": 4,
 "nbformat_minor": 5
}
